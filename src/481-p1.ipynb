{
 "cells": [
  {
   "cell_type": "code",
   "execution_count": 21,
   "metadata": {},
   "outputs": [],
   "source": [
    "import numpy as np\n",
    "from utils import *\n",
    "from sklearn.preprocessing import PolynomialFeatures\n",
    "from matplotlib import pyplot as plt\n",
    "\n",
    "from sklearn.linear_model import LinearRegression, Ridge"
   ]
  },
  {
   "attachments": {},
   "cell_type": "markdown",
   "metadata": {},
   "source": [
    "### Load and split data"
   ]
  },
  {
   "cell_type": "code",
   "execution_count": 22,
   "metadata": {},
   "outputs": [
    {
     "name": "stdout",
     "output_type": "stream",
     "text": [
      "[[1998.]\n",
      " [2008.]\n",
      " [1975.]\n",
      " [2004.]\n",
      " [1980.]]\n",
      "\n",
      "[[65.88791334]\n",
      " [67.21901249]\n",
      " [64.3206674 ]\n",
      " [66.92166376]\n",
      " [66.11401206]]\n"
     ]
    }
   ],
   "source": [
    "X_train, y_train = np.loadtxt('../data/train.dat', usecols=(0,1), unpack=True)\n",
    "X_test, y_test = np.loadtxt('../data/test.dat', usecols=(0,1), unpack=True)\n",
    "\n",
    "X_train = X_train.reshape(-1,1)\n",
    "y_train = y_train.reshape(-1,1)\n",
    "\n",
    "X_test = X_test.reshape(-1,1)\n",
    "y_test = y_test.reshape(-1,1)\n",
    "\n",
    "print(X_train[:5], y_train[:5], sep='\\n\\n')"
   ]
  },
  {
   "cell_type": "code",
   "execution_count": 23,
   "metadata": {},
   "outputs": [
    {
     "name": "stdout",
     "output_type": "stream",
     "text": [
      "[[64.17597825]\n",
      " [ 0.54640678]]\n"
     ]
    }
   ],
   "source": [
    "model = Pipeline(\n",
    "    StandardScaler(),\n",
    "    PolynomialFeatures(degree=1),\n",
    "    StandardScaler(),\n",
    "    RidgeRegressor(λ=1)\n",
    ")\n",
    "\n",
    "model.fit(X_train, y_train)\n",
    "print(model.predictor.coef_)"
   ]
  },
  {
   "cell_type": "code",
   "execution_count": 24,
   "metadata": {},
   "outputs": [
    {
     "name": "stdout",
     "output_type": "stream",
     "text": [
      "[[1 2]\n",
      " [3 4]]\n",
      "[[ 1.  1.  2.  1.  2.  4.]\n",
      " [ 1.  3.  4.  9. 12. 16.]]\n",
      "[()]\n",
      "[(1,), (2,)]\n",
      "[(1, 2)]\n"
     ]
    }
   ],
   "source": [
    "from itertools import permutations, combinations\n",
    "\n",
    "x = np.array([[1,2], [3,4]])\n",
    "print(x)\n",
    "print(PolynomialFeatures(degree=2).fit_transform(x))\n",
    "\n",
    "a = [1,2]\n",
    "for i in range(3):\n",
    "    print(list(combinations(a, i)))"
   ]
  },
  {
   "attachments": {},
   "cell_type": "markdown",
   "metadata": {},
   "source": [
    "### Perform 6-fold cross validation for each degree d in [0,12]"
   ]
  },
  {
   "cell_type": "code",
   "execution_count": 26,
   "metadata": {},
   "outputs": [
    {
     "data": {
      "image/png": "[encoded data removed]",
      "text/plain": [
       "<Figure size 640x480 with 1 Axes>"
      ]
     },
     "metadata": {},
     "output_type": "display_data"
    }
   ],
   "source": [
    "k = 6\n",
    "\n",
    "degree = list(range(13))\n",
    "cv_err = list()\n",
    "for d in degree:\n",
    "    model = Pipeline(\n",
    "        StandardScaler(),\n",
    "        PolynomialFeatures(degree=d),\n",
    "        StandardScaler(),\n",
    "        LinearRegressor()\n",
    "    )\n",
    "    cv_err.append(\n",
    "        cross_val_score(model, X_train, y_train, k)\n",
    "    )\n",
    "\n",
    "plt.plot(degree, cv_err)\n",
    "plt.show()"
   ]
  }
 ],
 "metadata": {
  "kernelspec": {
   "display_name": "Python 3",
   "language": "python",
   "name": "python3"
  },
  "language_info": {
   "codemirror_mode": {
    "name": "ipython",
    "version": 3
   },
   "file_extension": ".py",
   "mimetype": "text/x-python",
   "name": "python",
   "nbconvert_exporter": "python",
   "pygments_lexer": "ipython3",
   "version": "3.11.0"
  },
  "orig_nbformat": 4
 },
 "nbformat": 4,
 "nbformat_minor": 2
}
