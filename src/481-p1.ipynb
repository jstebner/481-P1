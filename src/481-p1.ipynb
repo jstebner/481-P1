{
 "cells": [
  {
   "cell_type": "code",
   "execution_count": 1,
   "metadata": {},
   "outputs": [],
   "source": [
    "import numpy as np\n",
    "from utils import *\n",
    "from matplotlib import pyplot as plt"
   ]
  },
  {
   "cell_type": "code",
   "execution_count": 2,
   "metadata": {},
   "outputs": [],
   "source": [
    "X_train, y_train = np.loadtxt('../data/train.dat', usecols=(0,1), unpack=True)\n",
    "X_test, y_test = np.loadtxt('../data/test.dat', usecols=(0,1), unpack=True)\n",
    "X_train = X_train.reshape(-1,1)\n",
    "y_train = X_test.reshape(-1,1)\n",
    "X_test = y_train.reshape(-1,1)\n",
    "y_test = y_test.reshape(-1,1)"
   ]
  },
  {
   "cell_type": "code",
   "execution_count": 3,
   "metadata": {},
   "outputs": [],
   "source": [
    "model = Pipeline(\n",
    "    StandardScaler(),\n",
    "    PolynomialFeatures(d=0),\n",
    "    StandardScaler(),\n",
    "    RidgeRegressor(λ=0)\n",
    ")\n"
   ]
  },
  {
   "cell_type": "code",
   "execution_count": 4,
   "metadata": {},
   "outputs": [
    {
     "name": "stdout",
     "output_type": "stream",
     "text": [
      "[[ 0.36244984 -0.49404289 -0.67588613]\n",
      " [ 0.36244984  0.22953808  0.11287273]\n",
      " [ 0.36244984 -2.15827911  1.16462765]\n",
      " [ 0.36244984 -0.05989431 -0.31819316]\n",
      " [ 0.36244984 -1.79648863  0.33115716]\n",
      " [ 0.36244984 -0.2046105  -0.47594493]\n",
      " [ 0.36244984  0.15717998 -0.00933903]\n",
      " [ 0.36244984 -1.86884673  0.47859087]\n",
      " [ 0.36244984 -0.92819147 -0.68689207]\n",
      " [ 0.36244984 -1.65177244  0.06518034]\n",
      " [ 0.36244984  0.88076095  1.64613742]\n",
      " [ 0.36244984 -1.00054957 -0.65502071]\n",
      " [ 0.36244984 -1.72413053  0.19335365]\n",
      " [ 0.36244984 -2.01356292  0.80234887]\n",
      " [ 0.36244984 -2.08592102  0.97867316]\n",
      " [ 0.36244984 -2.30299531  1.56542721]\n",
      " [ 0.36244984 -0.2769686  -0.54037552]\n",
      " [ 0.36244984 -0.42168479 -0.64034612]\n",
      " [ 0.36244984 -2.23063721  1.36021233]\n",
      " [ 0.36244984 -0.13225241 -0.40188414]\n",
      " [ 0.36244984  0.01246379 -0.22487198]\n",
      " [ 0.36244984 -0.85583337 -0.70913323]\n",
      " [ 0.36244984 -1.21762386 -0.50162545]\n",
      " [ 0.36244984 -0.78347528 -0.7217442 ]\n",
      " [ 0.36244984 -0.56640099 -0.70179594]\n",
      " [ 0.36244984  0.95311904  1.86465114]\n",
      " [ 0.36244984 -1.14526576 -0.5623874 ]\n",
      " [ 0.36244984 -1.28998195 -0.43123331]\n",
      " [ 0.36244984  0.51897046  0.69802175]\n",
      " [ 0.36244984  1.02547714  2.09279505]\n",
      " [ 0.36244984 -0.3493267  -0.59517592]\n",
      " [ 0.36244984 -2.4477115   2.00474755]\n",
      " [ 0.36244984  0.08482188 -0.1219206 ]\n",
      " [ 0.36244984 -2.5200696   2.23885302]\n",
      " [ 0.36244984  1.17019333  2.57797347]\n",
      " [ 0.36244984  0.66368666  1.04837743]\n",
      " [ 0.36244984 -1.36234005 -0.35121097]\n",
      " [ 0.36244984 -1.50705624 -0.16227571]\n",
      " [ 0.36244984 -1.94120482  0.63565477]\n",
      " [ 0.36244984 -0.63875908 -0.71807556]\n",
      " [ 0.36244984  0.73604475  1.23800056]\n",
      " [ 0.36244984  1.09783524  2.33056916]]\n"
     ]
    }
   ],
   "source": [
    "from sklearn.preprocessing import PolynomialFeatures\n",
    "\n",
    "poly = PolynomialFeatures(degree=2)\n",
    "scaler = StandardScaler()\n",
    "X_trans = scaler.fit_transform(X_train)\n",
    "X_trans = poly.fit_transform(X_trans)\n",
    "X_trans = scaler.fit_transform(X_trans)\n",
    "\n",
    "# print(X_train)\n",
    "print(X_trans)"
   ]
  }
 ],
 "metadata": {
  "kernelspec": {
   "display_name": "Python 3",
   "language": "python",
   "name": "python3"
  },
  "language_info": {
   "codemirror_mode": {
    "name": "ipython",
    "version": 3
   },
   "file_extension": ".py",
   "mimetype": "text/x-python",
   "name": "python",
   "nbconvert_exporter": "python",
   "pygments_lexer": "ipython3",
   "version": "3.11.0"
  },
  "orig_nbformat": 4
 },
 "nbformat": 4,
 "nbformat_minor": 2
}
